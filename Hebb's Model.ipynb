{
 "cells": [
  {
   "cell_type": "code",
   "execution_count": 1,
   "id": "2195ba1b-5537-4e23-bff2-9b24a183fb30",
   "metadata": {},
   "outputs": [
    {
     "name": "stdin",
     "output_type": "stream",
     "text": [
      "Enter operation to be performed:  or\n"
     ]
    },
    {
     "name": "stdout",
     "output_type": "stream",
     "text": [
      " INPUT       TARGET     WEIGHT CHANGES              WEIGHTS             \n",
      "                                                 ( 0,  0,  0)\n",
      "( 1,  1) \t  1 \t ( 1,  1,  1) \t \t ( 1,  1,  1)\n",
      "( 1, -1) \t  1 \t ( 1, -1,  1) \t \t ( 2,  0,  2)\n",
      "(-1,  1) \t  1 \t (-1,  1,  1) \t \t ( 1,  1,  3)\n",
      "(-1, -1) \t -1 \t ( 1,  1, -1) \t \t ( 2,  2,  2)\n"
     ]
    }
   ],
   "source": [
    "def hebb(inputs):\n",
    "    print(f'{\"INPUT\":^8}{\"TARGET\":^16}{\"WEIGHT CHANGES\":^15}{\"WEIGHTS\":^33}')\n",
    "    w1, w2, b = 0, 0, 0\n",
    "    print(' ' * 48, f'({w1:2}, {w2:2}, {b:2})')\n",
    "    for i in range(0,4):\n",
    "        x1 = inputs[i][0]\n",
    "        x2 = inputs[i][1]\n",
    "        y = inputs[i][2]\n",
    "        w1 += x1*y\n",
    "        w2 += x2*y\n",
    "        b += y\n",
    "        print(f'({x1:2}, {x2:2}) \\t {y:2} \\t ({x1*y:2}, {x2*y:2}, {y:2}) \\t \\t ({w1:2}, {w2:2}, {b:2})')\n",
    "\n",
    "\n",
    "vals = [-1, 1]\n",
    "inputs = []\n",
    "for i in vals:\n",
    "    for j in vals:\n",
    "        inputs.append([i,j])\n",
    "inputs.reverse()\n",
    "\n",
    "opr = input(\"Enter operation to be performed: \")\n",
    "\n",
    "if opr.lower() == \"and\":\n",
    "    y = [1, -1, -1, -1]\n",
    "elif opr.lower() == \"or\":\n",
    "    y = [1, 1, 1, -1]\n",
    "else:\n",
    "    y = [-1, 1, 1, -1]\n",
    "\n",
    "for i in range(0,4):\n",
    "    inputs[i].append(y[i])\n",
    "\n",
    "hebb(inputs)"
   ]
  },
  {
   "cell_type": "code",
   "execution_count": null,
   "id": "cb499409-54b3-43e3-8ab3-efca4d027dbb",
   "metadata": {},
   "outputs": [],
   "source": []
  }
 ],
 "metadata": {
  "kernelspec": {
   "display_name": "Python 3 (ipykernel)",
   "language": "python",
   "name": "python3"
  },
  "language_info": {
   "codemirror_mode": {
    "name": "ipython",
    "version": 3
   },
   "file_extension": ".py",
   "mimetype": "text/x-python",
   "name": "python",
   "nbconvert_exporter": "python",
   "pygments_lexer": "ipython3",
   "version": "3.9.12"
  }
 },
 "nbformat": 4,
 "nbformat_minor": 5
}
