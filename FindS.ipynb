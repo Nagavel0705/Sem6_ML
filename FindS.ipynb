{
 "cells": [
  {
   "cell_type": "code",
   "execution_count": 5,
   "id": "b35960f4-23a5-4b5b-bf93-129277c86464",
   "metadata": {},
   "outputs": [],
   "source": [
    "import pandas as pd"
   ]
  },
  {
   "cell_type": "code",
   "execution_count": 6,
   "id": "4bfc8463-457b-43d0-958a-42d847d98b85",
   "metadata": {},
   "outputs": [
    {
     "data": {
      "text/html": [
       "<div>\n",
       "<style scoped>\n",
       "    .dataframe tbody tr th:only-of-type {\n",
       "        vertical-align: middle;\n",
       "    }\n",
       "\n",
       "    .dataframe tbody tr th {\n",
       "        vertical-align: top;\n",
       "    }\n",
       "\n",
       "    .dataframe thead th {\n",
       "        text-align: right;\n",
       "    }\n",
       "</style>\n",
       "<table border=\"1\" class=\"dataframe\">\n",
       "  <thead>\n",
       "    <tr style=\"text-align: right;\">\n",
       "      <th></th>\n",
       "      <th>Time</th>\n",
       "      <th>Weather</th>\n",
       "      <th>Temperature</th>\n",
       "      <th>Company</th>\n",
       "      <th>Humidity</th>\n",
       "      <th>Wind</th>\n",
       "      <th>Goes for a walk</th>\n",
       "    </tr>\n",
       "  </thead>\n",
       "  <tbody>\n",
       "    <tr>\n",
       "      <th>0</th>\n",
       "      <td>Morning</td>\n",
       "      <td>Sunny</td>\n",
       "      <td>Warm</td>\n",
       "      <td>Yes</td>\n",
       "      <td>Mild</td>\n",
       "      <td>Normal</td>\n",
       "      <td>Yes</td>\n",
       "    </tr>\n",
       "    <tr>\n",
       "      <th>1</th>\n",
       "      <td>Evening</td>\n",
       "      <td>Rainy</td>\n",
       "      <td>Cold</td>\n",
       "      <td>No</td>\n",
       "      <td>Mild</td>\n",
       "      <td>Strong</td>\n",
       "      <td>No</td>\n",
       "    </tr>\n",
       "    <tr>\n",
       "      <th>2</th>\n",
       "      <td>Morning</td>\n",
       "      <td>Sunny</td>\n",
       "      <td>Moderate</td>\n",
       "      <td>Yes</td>\n",
       "      <td>Normal</td>\n",
       "      <td>Normal</td>\n",
       "      <td>Yes</td>\n",
       "    </tr>\n",
       "    <tr>\n",
       "      <th>3</th>\n",
       "      <td>Evening</td>\n",
       "      <td>Sunny</td>\n",
       "      <td>Cold</td>\n",
       "      <td>Yes</td>\n",
       "      <td>High</td>\n",
       "      <td>Normal</td>\n",
       "      <td>Yes</td>\n",
       "    </tr>\n",
       "  </tbody>\n",
       "</table>\n",
       "</div>"
      ],
      "text/plain": [
       "      Time Weather Temperature Company Humidity    Wind Goes for a walk\n",
       "0  Morning   Sunny        Warm     Yes     Mild  Normal             Yes\n",
       "1  Evening   Rainy        Cold      No     Mild  Strong              No\n",
       "2  Morning   Sunny    Moderate     Yes   Normal  Normal             Yes\n",
       "3  Evening   Sunny        Cold     Yes     High  Normal             Yes"
      ]
     },
     "execution_count": 6,
     "metadata": {},
     "output_type": "execute_result"
    }
   ],
   "source": [
    "df = pd.read_excel(\"FindSTut.xlsx\")\n",
    "df"
   ]
  },
  {
   "cell_type": "code",
   "execution_count": 7,
   "id": "9cec6489-f3e4-4fa0-a387-54f3c9a1e05f",
   "metadata": {},
   "outputs": [
    {
     "name": "stdout",
     "output_type": "stream",
     "text": [
      "      Time Weather Temperature Company Humidity    Wind Goes for a walk\n",
      "0  Morning   Sunny        Warm     Yes     Mild  Normal             Yes\n",
      "1  Evening   Rainy        Cold      No     Mild  Strong              No\n",
      "2  Morning   Sunny    Moderate     Yes   Normal  Normal             Yes\n",
      "3  Evening   Sunny        Cold     Yes     High  Normal             Yes\n",
      "\n",
      "Most specific hypothesis =  ['Null', 'Null', 'Null', 'Null', 'Null', 'Null']\n",
      "\n",
      "Most accurate hypothesis =  ['?', 'Sunny', '?', 'Yes', '?', 'Normal']\n"
     ]
    }
   ],
   "source": [
    "print(df)\n",
    "# print(df.shape) Prints the dimensions of the dataframe    \n",
    "hypothesis = [\"Null\" for i in range(df.shape[1] - 1)]\n",
    "print(\"\\nMost specific hypothesis = \",hypothesis)\n",
    "    \n",
    "X = []\n",
    "for ind,row in df.iterrows():\n",
    "    X = row[:-1]\n",
    "    Cx = row[-1]\n",
    "    if Cx == \"Yes\":\n",
    "        for i in range(len(X)):\n",
    "            if hypothesis[i] != X[i] and hypothesis[i] != \"Null\":\n",
    "                hypothesis[i] = \"?\"\n",
    "            elif hypothesis[i] == \"Null\":\n",
    "                hypothesis[i] = X[i]\n",
    "\n",
    "print(\"\\nMost accurate hypothesis = \",hypothesis)"
   ]
  }
 ],
 "metadata": {
  "kernelspec": {
   "display_name": "Python 3 (ipykernel)",
   "language": "python",
   "name": "python3"
  },
  "language_info": {
   "codemirror_mode": {
    "name": "ipython",
    "version": 3
   },
   "file_extension": ".py",
   "mimetype": "text/x-python",
   "name": "python",
   "nbconvert_exporter": "python",
   "pygments_lexer": "ipython3",
   "version": "3.11.0"
  }
 },
 "nbformat": 4,
 "nbformat_minor": 5
}
