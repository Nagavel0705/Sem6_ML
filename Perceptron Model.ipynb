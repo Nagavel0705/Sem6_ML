{
 "cells": [
  {
   "cell_type": "code",
   "execution_count": 1,
   "id": "d9b9c6da-8466-4fcb-9457-6c421349919e",
   "metadata": {},
   "outputs": [
    {
     "name": "stdin",
     "output_type": "stream",
     "text": [
      "Enter operation to be performed:  and\n"
     ]
    },
    {
     "name": "stdout",
     "output_type": "stream",
     "text": [
      " INPUT      TARGET      Yin       Y     WEIGHT CHANGES             WEIGHTS             \n",
      "                                                                 ( 0,  0,  0)\n",
      "( 1,  1) \t  1 \t  0 \t  0 \t ( 1,  1,  1) \t \t ( 1,  1,  1)\n",
      "( 1, -1) \t -1 \t  1 \t  1 \t (-1,  1, -1) \t \t ( 0,  2,  0)\n",
      "(-1,  1) \t -1 \t  2 \t  1 \t ( 1, -1, -1) \t \t ( 1,  1, -1)\n",
      "(-1, -1) \t -1 \t -3 \t -1 \t ( 0,  0,  0) \t \t ( 1,  1, -1)\n"
     ]
    }
   ],
   "source": [
    "def rosenblatt(inputs):\n",
    "    alpha = 1\n",
    "    print(f'{\"INPUT\":^8}{\"TARGET\":^14}{\"Yin\":^8}{\"Y\":^10}{\"WEIGHT CHANGES\":^4}{\"WEIGHTS\":^33}')\n",
    "    w1, w2, b = 0, 0, 0\n",
    "    print(' ' * 64, f'({w1:2}, {w2:2}, {b:2})')\n",
    "    for i in range(0,4):\n",
    "        x1 = inputs[i][0]\n",
    "        x2 = inputs[i][1]\n",
    "        t = inputs[i][2]\n",
    "        yin = b + x1*w1 + x2*w2;\n",
    "        if yin > 0:\n",
    "            y = 1\n",
    "        elif yin == 0:\n",
    "            y = 0\n",
    "        else:\n",
    "            y = -1\n",
    "        if y != t:\n",
    "            w1 += x1*alpha*t\n",
    "            w2 += x2*alpha*t\n",
    "            b += alpha*t\n",
    "            print(f'({x1:2}, {x2:2}) \\t {t:2} \\t {yin:2} \\t {y:2} \\t ({x1*t:2}, {x2*t:2}, {t:2}) \\t \\t ({w1:2}, {w2:2}, {b:2})')\n",
    "        else:\n",
    "            print(f'({x1:2}, {x2:2}) \\t {t:2} \\t {yin:2} \\t {y:2} \\t ({0:2}, {0:2}, {0:2}) \\t \\t ({w1:2}, {w2:2}, {b:2})')\n",
    "\n",
    "\n",
    "vals = [-1, 1]\n",
    "inputs = []\n",
    "for i in vals:\n",
    "    for j in vals:\n",
    "        inputs.append([i,j])\n",
    "inputs.reverse()\n",
    "\n",
    "opr = input(\"Enter operation to be performed: \")\n",
    "\n",
    "if opr.lower() == \"and\":\n",
    "    t = [1, -1, -1, -1]\n",
    "elif opr.lower() == \"or\":\n",
    "    t = [1, 1, 1, -1]\n",
    "else:\n",
    "    t = [-1, 1, 1, -1]\n",
    "\n",
    "for i in range(0,4):\n",
    "    inputs[i].append(t[i])\n",
    "\n",
    "rosenblatt(inputs)"
   ]
  },
  {
   "cell_type": "code",
   "execution_count": null,
   "id": "46b6aa53-aa12-4edd-bbea-0ead6a544dc5",
   "metadata": {},
   "outputs": [],
   "source": []
  }
 ],
 "metadata": {
  "kernelspec": {
   "display_name": "Python 3 (ipykernel)",
   "language": "python",
   "name": "python3"
  },
  "language_info": {
   "codemirror_mode": {
    "name": "ipython",
    "version": 3
   },
   "file_extension": ".py",
   "mimetype": "text/x-python",
   "name": "python",
   "nbconvert_exporter": "python",
   "pygments_lexer": "ipython3",
   "version": "3.9.12"
  },
  "vscode": {
   "interpreter": {
    "hash": "d13a7523c3a0053554c1d5daadc4035a13968b6f99c19f609c1aa80ace3a828e"
   }
  }
 },
 "nbformat": 4,
 "nbformat_minor": 5
}
